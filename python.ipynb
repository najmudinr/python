{
  "nbformat": 4,
  "nbformat_minor": 0,
  "metadata": {
    "colab": {
      "provenance": [],
      "authorship_tag": "ABX9TyNY6qtPQI0FLg6siTzJ+oJo",
      "include_colab_link": true
    },
    "kernelspec": {
      "name": "python3",
      "display_name": "Python 3"
    },
    "language_info": {
      "name": "python"
    }
  },
  "cells": [
    {
      "cell_type": "markdown",
      "metadata": {
        "id": "view-in-github",
        "colab_type": "text"
      },
      "source": [
        "<a href=\"https://colab.research.google.com/github/najmudinr/python/blob/master/python.ipynb\" target=\"_parent\"><img src=\"https://colab.research.google.com/assets/colab-badge.svg\" alt=\"Open In Colab\"/></a>"
      ]
    },
    {
      "cell_type": "code",
      "execution_count": 1,
      "metadata": {
        "colab": {
          "base_uri": "https://localhost:8080/"
        },
        "id": "aR8BdIOjYcVY",
        "outputId": "d24f39f7-b4c9-47db-b0ad-972a527a7f14"
      },
      "outputs": [
        {
          "output_type": "stream",
          "name": "stdout",
          "text": [
            "data = [13, 12, 10, 8, 7, 5, 11, 2]\n",
            "genap-ganjil sort : \n",
            "[12, 13, 8, 10, 5, 7, 2, 11]\n",
            "ganjil-genap short : \n",
            "[12, 8, 13, 5, 10, 2, 7, 11]\n",
            "genap-ganjil sort : \n",
            "[8, 12, 5, 13, 2, 10, 7, 11]\n",
            "ganjil-genap short : \n",
            "[8, 5, 12, 2, 13, 7, 10, 11]\n",
            "genap-ganjil sort : \n",
            "[5, 8, 2, 12, 7, 13, 10, 11]\n",
            "ganjil-genap short : \n",
            "[5, 2, 8, 7, 12, 10, 13, 11]\n",
            "genap-ganjil sort : \n",
            "[2, 5, 7, 8, 10, 12, 11, 13]\n",
            "ganjil-genap short : \n",
            "[2, 5, 7, 8, 10, 11, 12, 13]\n",
            "\n",
            " [2, 5, 7, 8, 10, 11, 12, 13]\n"
          ]
        }
      ],
      "source": [
        "def bubbleshort(List):\n",
        "    for i in range(len(List)):\n",
        "        if i%2 ==0:\n",
        "            print(\"genap-ganjil sort : \")\n",
        "            for j in range(0,len(List)-1,2) :\n",
        "                if List[j] > List[j+1] :\n",
        "                    List[j], List[j+1] = List[j+1], List[j]\n",
        "        else :\n",
        "            print(\"ganjil-genap short : \")\n",
        "            for j in range (1, len(List)-1,2) :\n",
        "                if List[j] > List[j+1] :\n",
        "                    List[j], List[j+1] = List[j+1], List[j]\n",
        "\n",
        "        print(List)\n",
        "    return List\n",
        "List = [13, 12, 10, 8, 7, 5, 11, 2]\n",
        "print (\"data =\", List)\n",
        "print(\"\\n\",bubbleshort(List))"
      ]
    }
  ]
}